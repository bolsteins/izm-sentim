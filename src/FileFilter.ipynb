{
 "cells": [
  {
   "cell_type": "markdown",
   "metadata": {},
   "source": [
    "# File Cleaner"
   ]
  },
  {
   "cell_type": "markdown",
   "metadata": {},
   "source": [
    "## 1st task"
   ]
  },
  {
   "cell_type": "code",
   "execution_count": 43,
   "metadata": {},
   "outputs": [],
   "source": [
    "# 50% of the grade\n",
    "def clean_file(src_file,dest_file,good_text=\"\",bad_text=\"\"):\n",
    "    # open src_file and read all the lines\n",
    "    with open(src_file, 'r') as source:\n",
    "        lines = source.readlines()\n",
    "    # keep only lines with good text BUT not with bad_text\n",
    "    cleaned_lines = [\n",
    "        line for line in lines if good_text in line and bad_text not in line\n",
    "    ]\n",
    "    # save onto dest_file overwritting the existing file there\n",
    "    with open(dest_file, 'w') as destination:\n",
    "        destination.writelines(cleaned_lines) #writing the filtered lines to the dest. file\n",
    "    print(f\"Cleaned file {src_file} and saved onto {dest_file}\")"
   ]
  },
  {
   "cell_type": "markdown",
   "metadata": {},
   "source": [
    "### Testing"
   ]
  },
  {
   "cell_type": "code",
   "execution_count": 44,
   "metadata": {},
   "outputs": [],
   "source": [
    "# create a test input file\n",
    "test_src_file = \"example1.txt\"\n",
    "\n",
    "# some content for the the test source file\n",
    "with open(test_src_file, 'w') as f:\n",
    "    f.write(\"\"\"This is a good line.\n",
    "This is a bad line.\n",
    "Another good line.\n",
    "Totally unrelated text.\n",
    "Kaut kas latviski.\"\"\")"
   ]
  },
  {
   "cell_type": "code",
   "execution_count": 45,
   "metadata": {},
   "outputs": [
    {
     "name": "stdout",
     "output_type": "stream",
     "text": [
      "Cleaned file example1.txt and saved onto cleaned_example.txt\n"
     ]
    }
   ],
   "source": [
    "# define the destination file\n",
    "test_dest_file = \"cleaned_example.txt\"\n",
    "\n",
    "# run the clean_file function\n",
    "clean_file(\n",
    "    src_file=test_src_file,\n",
    "    dest_file=test_dest_file,\n",
    "    good_text=\"good\",\n",
    "    bad_text=\"bad\"\n",
    ")"
   ]
  },
  {
   "cell_type": "code",
   "execution_count": 37,
   "metadata": {},
   "outputs": [
    {
     "name": "stdout",
     "output_type": "stream",
     "text": [
      "Contents of cleaned file:\n",
      "This is a good line.\n",
      "Another good line.\n",
      "\n"
     ]
    }
   ],
   "source": [
    "# verify output\n",
    "print(\"Contents of cleaned file:\")\n",
    "with open(test_dest_file, 'r') as f:\n",
    "    print(f.read())"
   ]
  },
  {
   "cell_type": "markdown",
   "metadata": {},
   "source": [
    "## 2nd task"
   ]
  },
  {
   "cell_type": "code",
   "execution_count": 46,
   "metadata": {},
   "outputs": [],
   "source": [
    "# 80% of the grade\n",
    "def clean_file_many(src_file,dest_file,good_texts=(),bad_texts=()):\n",
    "    # open src_file\n",
    "    with open(src_file, 'r') as source:\n",
    "        lines = source.readlines()\n",
    "    # keep only lines with any good text BUT NOT with ANY bad text\n",
    "    # and adding case insensitivity\n",
    "    cleaned_lines = [\n",
    "        line for line in lines\n",
    "        if any(good.lower() in line.lower() for good in good_texts)\n",
    "        and not any(bad.lower() in line.lower() for bad in bad_texts)\n",
    "    ]\n",
    "    # save onto dest_file overwritting the existing file there\n",
    "    with open(dest_file, 'w') as destination:\n",
    "        destination.writelines(cleaned_lines)\n",
    "    print(f\"Cleaned file {src_file} and saved onto {dest_file}\")"
   ]
  },
  {
   "cell_type": "markdown",
   "metadata": {},
   "source": [
    "### Testing"
   ]
  },
  {
   "cell_type": "code",
   "execution_count": 49,
   "metadata": {},
   "outputs": [],
   "source": [
    "# create a test input file\n",
    "test_src_file = \"example2.txt\"\n",
    "\n",
    "# some content for the the test source file\n",
    "with open(test_src_file, 'w') as f:\n",
    "    f.write(\"\"\"This is a great line.\n",
    "This is a terrible line.\n",
    "Fantastic line here.\n",
    "Bad lines are everywhere.\n",
    "Absolutely wonderful!\n",
    "Poor quality text.\"\"\")"
   ]
  },
  {
   "cell_type": "code",
   "execution_count": 50,
   "metadata": {},
   "outputs": [
    {
     "name": "stdout",
     "output_type": "stream",
     "text": [
      "Cleaned file example2.txt and saved onto cleaned_example2.txt\n"
     ]
    }
   ],
   "source": [
    "# define the destination file\n",
    "test_dest_file = \"cleaned_example2.txt\"\n",
    "\n",
    "# run the clean_file_many function\n",
    "clean_file_many(\n",
    "    src_file=test_src_file,\n",
    "    dest_file=test_dest_file,\n",
    "    good_texts=(\"great\", \"fantastic\", \"wonderful\"),\n",
    "    bad_texts=(\"terrible\", \"bad\", \"poor\")\n",
    ")"
   ]
  },
  {
   "cell_type": "code",
   "execution_count": 51,
   "metadata": {},
   "outputs": [
    {
     "name": "stdout",
     "output_type": "stream",
     "text": [
      "Contents of cleaned file:\n",
      "This is a great line.\n",
      "Fantastic line here.\n",
      "Absolutely wonderful!\n",
      "\n"
     ]
    }
   ],
   "source": [
    "# verify the output\n",
    "print(\"Contents of cleaned file:\")\n",
    "with open(test_dest_file, 'r') as f:\n",
    "    print(f.read())"
   ]
  },
  {
   "cell_type": "markdown",
   "metadata": {},
   "source": [
    "## 3rd task"
   ]
  },
  {
   "cell_type": "code",
   "execution_count": 42,
   "metadata": {},
   "outputs": [],
   "source": [
    "# 100% of the grade\n",
    "def clean_folder_many_texts(src_folder,dest_folder, src_postfix=\".txt\",dest_postfix=\"_cleaned.txt\", good_texts=(),bad_texts=()):\n",
    "    # open src_folder\n",
    "    # keep only lines with good text BUT not with bad_text\n",
    "    # check for default edge cases when good_texts and/or bad_texts are empty\n",
    "    # save onto dest_folder with same file names but with dest_postfix added to each file\n",
    "    # create dest_folder if it does not exist!\n",
    "    print(f\"Cleaned files in {src_folder} and saved onto {dest_folder}\")"
   ]
  }
 ],
 "metadata": {
  "kernelspec": {
   "display_name": "Python 3",
   "language": "python",
   "name": "python3"
  },
  "language_info": {
   "codemirror_mode": {
    "name": "ipython",
    "version": 3
   },
   "file_extension": ".py",
   "mimetype": "text/x-python",
   "name": "python",
   "nbconvert_exporter": "python",
   "pygments_lexer": "ipython3",
   "version": "3.12.1"
  }
 },
 "nbformat": 4,
 "nbformat_minor": 4
}
